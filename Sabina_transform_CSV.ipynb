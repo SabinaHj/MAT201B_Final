{
  "nbformat": 4,
  "nbformat_minor": 0,
  "metadata": {
    "colab": {
      "name": "Sabina transform CSV",
      "provenance": []
    },
    "kernelspec": {
      "name": "python3",
      "display_name": "Python 3"
    },
    "language_info": {
      "name": "python"
    }
  },
  "cells": [
    {
      "cell_type": "code",
      "execution_count": null,
      "metadata": {
        "id": "Eso0R5eWir2p"
      },
      "outputs": [],
      "source": [
        "import pandas as pd\n",
        "dataframe = pd.read_csv('/content/drive/MyDrive/Winter 2021/COMPUTER W  MEDIA (MAT 201B)/sabina/Y_voltage_force.csv',\n",
        "                        header=None, \n",
        "                        index_col=False)"
      ]
    },
    {
      "cell_type": "code",
      "source": [
        "import numpy as np\n",
        "flatten_dataframe = pd.DataFrame(dataframe.T.to_numpy().flatten())"
      ],
      "metadata": {
        "id": "5hzVYqHxkquI"
      },
      "execution_count": null,
      "outputs": []
    },
    {
      "cell_type": "code",
      "source": [
        "dataframe.T.shape"
      ],
      "metadata": {
        "colab": {
          "base_uri": "https://localhost:8080/"
        },
        "id": "dnrpZZHwsirj",
        "outputId": "9f4c1323-9518-41d9-b41f-e83b3e431908"
      },
      "execution_count": null,
      "outputs": [
        {
          "output_type": "execute_result",
          "data": {
            "text/plain": [
              "(422, 1000)"
            ]
          },
          "metadata": {},
          "execution_count": 37
        }
      ]
    },
    {
      "cell_type": "code",
      "source": [
        "flatten_dataframe.to_csv('Y_voltage_force_flatten_transpose.csv', index= False)"
      ],
      "metadata": {
        "id": "R-PznpwSmDrR"
      },
      "execution_count": null,
      "outputs": []
    },
    {
      "cell_type": "code",
      "source": [
        "flatten_dataframe.iloc[1029]"
      ],
      "metadata": {
        "colab": {
          "base_uri": "https://localhost:8080/"
        },
        "id": "s_khMWQAr3kf",
        "outputId": "0542fe2d-f4c6-4c1c-ee50-1ccfc0ccb4ea"
      },
      "execution_count": null,
      "outputs": [
        {
          "output_type": "execute_result",
          "data": {
            "text/plain": [
              "0    23.200186\n",
              "Name: 1029, dtype: float64"
            ]
          },
          "metadata": {},
          "execution_count": 46
        }
      ]
    },
    {
      "cell_type": "code",
      "source": [
        ""
      ],
      "metadata": {
        "id": "bQjy0yl1tDt1"
      },
      "execution_count": null,
      "outputs": []
    }
  ]
}